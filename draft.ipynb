{
 "cells": [
  {
   "cell_type": "code",
   "execution_count": 97,
   "metadata": {},
   "outputs": [
    {
     "name": "stdout",
     "output_type": "stream",
     "text": [
      "The autoreload extension is already loaded. To reload it, use:\n",
      "  %reload_ext autoreload\n"
     ]
    }
   ],
   "source": [
    "%load_ext autoreload\n",
    "%autoreload 2"
   ]
  },
  {
   "cell_type": "code",
   "execution_count": 98,
   "metadata": {},
   "outputs": [],
   "source": [
    "import numpy as np\n",
    "import torch\n",
    "import torch.nn as nn\n",
    "import torch.nn.functional as F\n",
    "import torch.optim as optim\n",
    "import yaml\n",
    "from torch_geometric.datasets import Planetoid\n",
    "from tqdm import tqdm\n",
    "\n",
    "import wandb\n",
    "from GCN import GCN, EdgePrediction\n",
    "from utils import build_adj_mat, build_edge_pred_datasets, compute_A_hat\n",
    "\n",
    "with open(\"configEdgePred.yaml\", \"r\") as file:\n",
    "    config = yaml.safe_load(file)\n",
    "    config = config[\"GCN\"]\n",
    "\n",
    "wandb.init(project=\"gnn-from-scratch\", config=config)\n",
    "\n",
    "node_dim = config[\"node_dim\"]\n",
    "hidden_dim = config[\"hidden_dim\"]\n",
    "batch_size = config[\"batch_size\"]\n",
    "lr = config[\"lr\"]\n",
    "n_epochs = config[\"n_epochs\"]\n",
    "n_train = config[\"n_train\"]\n",
    "n_val = config[\"n_val\"]\n",
    "n_test = config[\"n_test\"]\n",
    "dropout = config[\"dropout\"]\n",
    "weight_decay = config[\"weight_decay\"]\n",
    "dataset_name = config[\"dataset\"]\n",
    "\n",
    "dataset = Planetoid(\n",
    "    \"./data/\", dataset_name, num_train_per_class=n_train, num_val=n_val, num_test=n_test\n",
    ")\n",
    "\n",
    "data = dataset[0]  # there is only one graph\n",
    "# # One hot encoding labels for classification task\n",
    "# data.y = F.one_hot(data.y).float()\n",
    "# data.adj_mat = build_adj_mat(data.x, data.edge_index)\n",
    "\n",
    "train_edge_index, val_edge_index, test_edge_index = build_edge_pred_datasets(\n",
    "    data, n_train, n_val, n_test\n",
    ")\n",
    "\n",
    "gcn = GCN(\n",
    "    input_dim=node_dim,\n",
    "    hidden_dim=hidden_dim,\n",
    "    output_dim=hidden_dim,\n",
    "    n_layers=3,\n",
    "    dropout=dropout,\n",
    ")\n",
    "\n",
    "edge_pred = EdgePrediction(embedding_dim=hidden_dim)\n",
    "\n",
    "loss_fn = nn.CrossEntropyLoss()\n",
    "optimizer_gcn = optim.Adam(gcn.parameters(), lr=lr, weight_decay=weight_decay)\n",
    "optimizer_edge_pred = optim.Adam(\n",
    "    edge_pred.parameters(), lr=lr, weight_decay=weight_decay\n",
    ")\n",
    "\n",
    "data.A_hat = compute_A_hat(data.x, data.edge_index)\n",
    "\n",
    "gcn.train()\n",
    "edge_pred.train()\n",
    "optimizer_edge_pred.zero_grad()\n",
    "optimizer_gcn.zero_grad()\n",
    "\n",
    "# No matter what edges will be compared, apply the GCN to the whole graph\n",
    "node_embeddings = gcn(data.x, data.A_hat)"
   ]
  },
  {
   "cell_type": "code",
   "execution_count": 99,
   "metadata": {},
   "outputs": [],
   "source": [
    "def build_classifier_batch(\n",
    "    edge_index, node_embeddings, batch_size: int, negative_sampling: int\n",
    ") -> torch.Tensor:\n",
    "    \"\"\"Build a batch of positive and negative examples for the edge prediction task\n",
    "    negative_sampling: int, number of negative examples to sample for each positive example\"\"\"\n",
    "\n",
    "    # Start by building the positive examples\n",
    "    list(zip(edge_index[0].tolist(), edge_index[1].tolist()))\n",
    "    batch_indices = np.random.choice(edge_index.shape[1], batch_size, replace=False)\n",
    "    edges = list(zip(edge_index[0].tolist(), edge_index[1].tolist()))\n",
    "    pairs = [edge for i, edge in enumerate(edges) if i in batch_indices]\n",
    "    positive_samples = torch.stack(\n",
    "        [\n",
    "            torch.cat([node_embeddings[pair[0]], node_embeddings[pair[1]]])\n",
    "            for pair in pairs\n",
    "        ]\n",
    "    )\n",
    "\n",
    "    # Now add negative examples\n",
    "    random_edges = np.random.choice(\n",
    "        node_embeddings.shape[0], (batch_size * negative_sampling, 2), replace=False\n",
    "    )\n",
    "    random_edges = filter(lambda x: x[0] != x[1], random_edges)\n",
    "    negative_samples = torch.stack(\n",
    "        [\n",
    "            torch.cat([node_embeddings[edge[0]], node_embeddings[edge[1]]])\n",
    "            for edge in random_edges\n",
    "        ]\n",
    "    )\n",
    "\n",
    "    batch = torch.cat([positive_samples, negative_samples])\n",
    "\n",
    "    return batch"
   ]
  },
  {
   "cell_type": "code",
   "execution_count": 100,
   "metadata": {},
   "outputs": [
    {
     "data": {
      "text/plain": [
       "torch.Size([44, 32])"
      ]
     },
     "execution_count": 100,
     "metadata": {},
     "output_type": "execute_result"
    }
   ],
   "source": [
    "build_classifier_batch(train_edge_index, node_embeddings, 4, 10).shape"
   ]
  },
  {
   "cell_type": "code",
   "execution_count": 104,
   "metadata": {},
   "outputs": [
    {
     "data": {
      "text/plain": [
       "tensor([4, 3, 1, 0, 2])"
      ]
     },
     "execution_count": 104,
     "metadata": {},
     "output_type": "execute_result"
    }
   ],
   "source": [
    "torch.argsort(torch.argsort(torch.tensor([1, 2, 4, 5, 3]), descending=True))"
   ]
  },
  {
   "cell_type": "code",
   "execution_count": null,
   "metadata": {},
   "outputs": [],
   "source": []
  }
 ],
 "metadata": {
  "kernelspec": {
   "display_name": "gnn-from-scratch-c0WPee-l-py3.12",
   "language": "python",
   "name": "python3"
  },
  "language_info": {
   "codemirror_mode": {
    "name": "ipython",
    "version": 3
   },
   "file_extension": ".py",
   "mimetype": "text/x-python",
   "name": "python",
   "nbconvert_exporter": "python",
   "pygments_lexer": "ipython3",
   "version": "3.12.8"
  }
 },
 "nbformat": 4,
 "nbformat_minor": 2
}
