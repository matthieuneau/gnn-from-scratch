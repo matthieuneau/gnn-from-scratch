{
 "cells": [
  {
   "cell_type": "code",
   "execution_count": 7,
   "metadata": {},
   "outputs": [],
   "source": [
    "import numpy as np\n",
    "import torch\n",
    "import torch.nn as nn\n",
    "import torch.nn.functional as F\n",
    "import torch.optim as optim\n",
    "import yaml\n",
    "from torch_geometric.datasets import Planetoid\n",
    "from tqdm import tqdm\n",
    "\n",
    "import wandb\n",
    "from GCN import GCN\n",
    "from utils import build_adj_mat\n",
    "\n",
    "with open(\"config.yaml\", \"r\") as file:\n",
    "    config = yaml.safe_load(file)\n",
    "    config = config[\"GCN\"]\n",
    "\n",
    "wandb.init(project=\"gnn-from-scratch\", config=config)\n",
    "\n",
    "node_dim = config[\"node_dim\"]\n",
    "hidden_dim = config[\"hidden_dim\"]\n",
    "batch_size = config[\"batch_size\"]\n",
    "lr = config[\"lr\"]\n",
    "n_classes = config[\"n_classes\"]\n",
    "n_epochs = config[\"n_epochs\"]\n",
    "n_train = config[\"n_train\"]\n",
    "n_val = config[\"n_val\"]\n",
    "n_test = config[\"n_test\"]\n",
    "dropout = config[\"dropout\"]\n",
    "weight_decay = config[\"weight_decay\"]\n",
    "\n",
    "# dataset = Planetoid(\n",
    "#     \"./data/\", \"Cora\", num_train_per_class=n_train, num_val=n_val, num_test=n_test\n",
    "# )\n",
    "dataset = Planetoid(\n",
    "    \"./data/\", \"PubMed\", num_train_per_class=n_train, num_val=n_val, num_test=n_test\n",
    ")\n"
   ]
  },
  {
   "cell_type": "code",
   "execution_count": 12,
   "metadata": {},
   "outputs": [
    {
     "data": {
      "text/plain": [
       "tensor(2)"
      ]
     },
     "execution_count": 12,
     "metadata": {},
     "output_type": "execute_result"
    }
   ],
   "source": [
    "dataset[0].y.max()"
   ]
  },
  {
   "cell_type": "code",
   "execution_count": null,
   "metadata": {},
   "outputs": [],
   "source": []
  }
 ],
 "metadata": {
  "kernelspec": {
   "display_name": "gnn-from-scratch-c0WPee-l-py3.12",
   "language": "python",
   "name": "python3"
  },
  "language_info": {
   "codemirror_mode": {
    "name": "ipython",
    "version": 3
   },
   "file_extension": ".py",
   "mimetype": "text/x-python",
   "name": "python",
   "nbconvert_exporter": "python",
   "pygments_lexer": "ipython3",
   "version": "3.12.8"
  }
 },
 "nbformat": 4,
 "nbformat_minor": 2
}
