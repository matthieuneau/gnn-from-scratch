{
 "cells": [
  {
   "cell_type": "code",
   "execution_count": 20,
   "metadata": {},
   "outputs": [],
   "source": [
    "%load_ext autoreload\n",
    "%autoreload 2"
   ]
  },
  {
   "cell_type": "code",
   "execution_count": 21,
   "metadata": {},
   "outputs": [
    {
     "name": "stderr",
     "output_type": "stream",
     "text": [
      "/Users/matthieuneau/Library/Caches/pypoetry/virtualenvs/gnn-from-scratch-c0WPee-l-py3.12/lib/python3.12/site-packages/torch/optim/lr_scheduler.py:62: UserWarning: The verbose parameter is deprecated. Please use get_last_lr() to access the learning rate.\n",
      "  warnings.warn(\n"
     ]
    }
   ],
   "source": [
    "import numpy as np\n",
    "import torch\n",
    "import torch.nn as nn\n",
    "import torch.nn.functional as F\n",
    "import torch.optim as optim\n",
    "import yaml\n",
    "from torch_geometric.datasets import Planetoid\n",
    "from tqdm import tqdm\n",
    "\n",
    "import wandb\n",
    "from GCN import GCN, EdgePrediction\n",
    "from utils import (\n",
    "    build_adj_mat,\n",
    "    build_classifier_batch,\n",
    "    build_edge_pred_datasets,\n",
    "    compute_A_hat,\n",
    ")\n",
    "\n",
    "with open(\"configEdgePred.yaml\", \"r\") as file:\n",
    "    config = yaml.safe_load(file)\n",
    "    config = config[\"GCN\"]\n",
    "\n",
    "wandb.init(project=\"gnn-from-scratch\", config=config)\n",
    "\n",
    "negative_samples_factor = config[\"negative_samples_factor\"]\n",
    "# dimensions = config[\"dimensions\"]\n",
    "dimensions = [tuple(dim) for dim in config[\"dimensions\"]]\n",
    "batch_size = config[\"batch_size\"]\n",
    "lr = config[\"lr\"]\n",
    "n_epochs = config[\"n_epochs\"]\n",
    "n_train = config[\"n_train\"]\n",
    "n_val = config[\"n_val\"]\n",
    "n_test = config[\"n_test\"]\n",
    "dropout = config[\"dropout\"]\n",
    "n_batches = config[\"n_batches\"]\n",
    "weight_decay = config[\"weight_decay\"]\n",
    "dataset_name = config[\"dataset\"]\n",
    "hits_k_rank = config[\"HITS@K_rank\"]\n",
    "hits_k_positive_samples = config[\"HITS@K_positive_samples\"]\n",
    "hits_k_negative_samples = config[\"HITS@K_negative_samples_factor\"]\n",
    "\n",
    "dataset = Planetoid(\n",
    "    \"./data/\", dataset_name, num_train_per_class=n_train, num_val=n_val, num_test=n_test\n",
    ")\n",
    "\n",
    "data = dataset[0]  # there is only one graph\n",
    "# # One hot encoding labels for classification task\n",
    "# data.y = F.one_hot(data.y).float()\n",
    "# data.adj_mat = build_adj_mat(data.x, data.edge_index)\n",
    "\n",
    "train_edge_index, val_edge_index, test_edge_index = build_edge_pred_datasets(\n",
    "    data, n_train, n_val, n_test\n",
    ")\n",
    "\n",
    "gcn = GCN(\n",
    "    input_dim=node_dim,\n",
    "    hidden_dim=hidden_dim,\n",
    "    output_dim=hidden_dim,\n",
    "    n_layers=3,\n",
    "    dropout=dropout,\n",
    ")\n",
    "\n",
    "edge_pred = EdgePrediction(embedding_dim=hidden_dim)\n",
    "\n",
    "loss_fn = nn.BCEWithLogitsLoss()\n",
    "optimizer_gcn = optim.Adam(gcn.parameters(), lr=lr, weight_decay=weight_decay)\n",
    "optimizer_edge_pred = optim.Adam(\n",
    "    edge_pred.parameters(), lr=lr, weight_decay=weight_decay\n",
    ")\n",
    "scheduler_gcn = optim.lr_scheduler.ReduceLROnPlateau(\n",
    "    optimizer_gcn, mode=\"min\", factor=0.2, patience=5, verbose=True\n",
    ")\n",
    "scheduler_edge_pred = optim.lr_scheduler.ReduceLROnPlateau(\n",
    "    optimizer_edge_pred, mode=\"min\", factor=0.2, patience=5, verbose=True\n",
    ")\n",
    "\n",
    "data.A_hat = compute_A_hat(data.x, data.edge_index)\n"
   ]
  },
  {
   "cell_type": "code",
   "execution_count": null,
   "metadata": {},
   "outputs": [
    {
     "data": {
      "text/plain": [
       "=================================================================\n",
       "Layer (type:depth-idx)                   Param #\n",
       "=================================================================\n",
       "GCN                                      --\n",
       "├─ModuleList: 1-1                        --\n",
       "│    └─GCNLayer: 2-1                     95,808\n",
       "│    └─GCNLayer: 2-2                     8,192\n",
       "│    └─GCNLayer: 2-3                     8,192\n",
       "├─Dropout: 1-2                           --\n",
       "=================================================================\n",
       "Total params: 112,192\n",
       "Trainable params: 112,192\n",
       "Non-trainable params: 0\n",
       "================================================================="
      ]
     },
     "execution_count": 19,
     "metadata": {},
     "output_type": "execute_result"
    }
   ],
   "source": [
    "from torchinfo import summary\n",
    "\n",
    "summary(gcn)"
   ]
  },
  {
   "cell_type": "code",
   "execution_count": null,
   "metadata": {},
   "outputs": [],
   "source": []
  }
 ],
 "metadata": {
  "kernelspec": {
   "display_name": "gnn-from-scratch-c0WPee-l-py3.12",
   "language": "python",
   "name": "python3"
  },
  "language_info": {
   "codemirror_mode": {
    "name": "ipython",
    "version": 3
   },
   "file_extension": ".py",
   "mimetype": "text/x-python",
   "name": "python",
   "nbconvert_exporter": "python",
   "pygments_lexer": "ipython3",
   "version": "3.12.8"
  }
 },
 "nbformat": 4,
 "nbformat_minor": 2
}
