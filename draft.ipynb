{
 "cells": [
  {
   "cell_type": "code",
   "execution_count": 13,
   "metadata": {},
   "outputs": [],
   "source": [
    "import torch\n",
    "import torch.nn as nn\n",
    "\n",
    "import torch.nn.functional as F\n",
    "\n",
    "\n",
    "class VanillaCGN(nn.Module):\n",
    "    def __init__(self, input_dim, node_dim, n_layers, adj_mat) -> None:\n",
    "        super().__init__()\n",
    "        self.adj_mat = adj_mat\n",
    "        self.input_dim = input_dim\n",
    "        self.node_dim = node_dim\n",
    "        self.n_layers = n_layers\n",
    "        self.U0 = nn.init.kaiming_normal_(torch.empty(node_dim, input_dim))\n",
    "        self.b0 = nn.Parameter(torch.randn(node_dim))\n",
    "        self.convLayers = [\n",
    "            ConvNetLayer(self.node_dim, self.adj_mat) for _ in range(self.n_layers)\n",
    "        ]\n",
    "\n",
    "    def forward(self, x):\n",
    "        x = x @ self.U0 + self.b0  # self.b0 is broadcasted properly?\n",
    "        for i in range(self.n_layers):\n",
    "            x = self.convLayers[i](x)\n",
    "        return x\n",
    "\n",
    "\n",
    "class ConvNetLayer(nn.Module):\n",
    "    def __init__(self, node_dim, adj_mat) -> None:\n",
    "        super().__init__()\n",
    "        self.U = nn.Parameter(torch.randn(node_dim, node_dim))\n",
    "        self.adj_mat = adj_mat\n",
    "\n",
    "    def forward(self, x):\n",
    "        new_x = torch.empty_like(x)\n",
    "        for i in range(x.shape[0]):\n",
    "            deg_i = self.adj_mat[:, i].sum()  # we look at the neighbors pointing to i\n",
    "            mask_i = self.adj_mat[:, i] > 0\n",
    "            new_x[i, :] = F.relu(self.U @ (x[mask_i, :].sum(dim=0)).to(torch.float32) / deg_i)\n",
    "        return new_x"
   ]
  },
  {
   "cell_type": "code",
   "execution_count": 14,
   "metadata": {},
   "outputs": [
    {
     "name": "stdout",
     "output_type": "stream",
     "text": [
      "tensor([[1.9000, 0.0000],\n",
      "        [4.2847, 0.0000],\n",
      "        [1.9000, 0.0000]], grad_fn=<CopySlices>)\n"
     ]
    }
   ],
   "source": [
    "adj_mat = torch.tensor([[0, 1, 0], [1, 0, 1], [0, 1, 0]])\n",
    "X = torch.tensor([[5, 2], [3, 4], [10, 20]], dtype=torch.float32)\n",
    "layer = ConvNetLayer(node_dim=2, adj_mat=adj_mat)\n",
    "\n",
    "X = layer(X)\n",
    "print(X)"
   ]
  },
  {
   "cell_type": "code",
   "execution_count": 24,
   "metadata": {},
   "outputs": [
    {
     "name": "stdout",
     "output_type": "stream",
     "text": [
      "tensor([[0.8336, 4.5861],\n",
      "        [0.7860, 4.3481],\n",
      "        [0.8336, 4.5861]], grad_fn=<CopySlices>)\n"
     ]
    }
   ],
   "source": [
    "model = VanillaCGN(input_dim=2, node_dim=2, n_layers=2, adj_mat=adj_mat)\n",
    "Y = torch.rand((3, 2))\n",
    "Y = model(Y)\n",
    "print(Y)"
   ]
  },
  {
   "cell_type": "code",
   "execution_count": null,
   "metadata": {},
   "outputs": [],
   "source": []
  }
 ],
 "metadata": {
  "kernelspec": {
   "display_name": "3.12.8",
   "language": "python",
   "name": "python3"
  },
  "language_info": {
   "codemirror_mode": {
    "name": "ipython",
    "version": 3
   },
   "file_extension": ".py",
   "mimetype": "text/x-python",
   "name": "python",
   "nbconvert_exporter": "python",
   "pygments_lexer": "ipython3",
   "version": "3.12.8"
  }
 },
 "nbformat": 4,
 "nbformat_minor": 2
}
