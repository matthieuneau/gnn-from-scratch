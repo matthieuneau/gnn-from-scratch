{
 "cells": [
  {
   "cell_type": "code",
   "execution_count": null,
   "metadata": {},
   "outputs": [],
   "source": [
    "import torch\n",
    "import torch.nn as nn\n",
    "\n",
    "import torch.nn.functional as F\n",
    "\n",
    "\n",
    "class VanillaCGN(nn.Module):\n",
    "    def __init__(self, input_dim, node_dim, n_layers) -> None:\n",
    "        super().__init__()\n",
    "        self.input_dim = input_dim\n",
    "        self.node_dim = node_dim\n",
    "        self.n_layers = n_layers\n",
    "        self.U0 = nn.init.kaiming_normal_(torch.empty(node_dim, input_dim))\n",
    "        self.b0 = nn.Parameter(torch.randn(node_dim))\n",
    "        self.convLayers = [ConvNetLayer(self.node_dim) for _ in range(self.n_layers)]\n",
    "\n",
    "    @staticmethod\n",
    "    def build_adj_mat(edge_index):\n",
    "        \"\"\"Build the adjacency matrix of a graph from edge_index that looks like this: [[1, 4, 5, 6], [2, 3, 3, 5]]\n",
    "        cf. https://huggingface.co/datasets/graphs-datasets/ZINC for more details\"\"\"\n",
    "        n_nodes = max(max(edge_index[0]), max(edge_index[1]))\n",
    "        n_edges = len(edge_index[0])\n",
    "        adj_mat = torch.zeros((n_nodes, n_nodes))\n",
    "        for i in range(n_edges):\n",
    "            adj_mat[edge_index[0][i], edge_index[1][i]] = 1\n",
    "        return adj_mat\n",
    "\n",
    "    def forward(self, x):\n",
    "        x = x @ self.U0 + self.b0  # self.b0 is broadcasted properly?\n",
    "        for i in range(self.n_layers):\n",
    "            x = self.convLayers[i](x)\n",
    "        return x\n",
    "\n",
    "\n",
    "class ConvNetLayer(nn.Module):\n",
    "    def __init__(self, node_dim) -> None:\n",
    "        super().__init__()\n",
    "        self.U = nn.Parameter(torch.randn(node_dim, node_dim))\n",
    "\n",
    "    def forward(self, x):\n",
    "        new_x = torch.empty_like(x)\n",
    "        for i in range(x.shape[0]):\n",
    "            new_x[i, :] = F.relu(\n",
    "                self.U @ (x[mask_i, :].sum(dim=0)).to(torch.float32) / deg_i\n",
    "            )\n",
    "        return new_x"
   ]
  },
  {
   "cell_type": "code",
   "execution_count": 14,
   "metadata": {},
   "outputs": [
    {
     "name": "stdout",
     "output_type": "stream",
     "text": [
      "tensor([[1.9000, 0.0000],\n",
      "        [4.2847, 0.0000],\n",
      "        [1.9000, 0.0000]], grad_fn=<CopySlices>)\n"
     ]
    }
   ],
   "source": [
    "adj_mat = torch.tensor([[0, 1, 0], [1, 0, 1], [0, 1, 0]])\n",
    "X = torch.tensor([[5, 2], [3, 4], [10, 20]], dtype=torch.float32)\n",
    "layer = ConvNetLayer(node_dim=2, adj_mat=adj_mat)\n",
    "\n",
    "X = layer(X)\n",
    "print(X)"
   ]
  },
  {
   "cell_type": "code",
   "execution_count": 24,
   "metadata": {},
   "outputs": [
    {
     "name": "stdout",
     "output_type": "stream",
     "text": [
      "tensor([[0.8336, 4.5861],\n",
      "        [0.7860, 4.3481],\n",
      "        [0.8336, 4.5861]], grad_fn=<CopySlices>)\n"
     ]
    }
   ],
   "source": [
    "model = VanillaCGN(input_dim=2, node_dim=2, n_layers=2, adj_mat=adj_mat)\n",
    "Y = torch.rand((3, 2))\n",
    "Y = model(Y)\n",
    "print(Y)"
   ]
  },
  {
   "cell_type": "code",
   "execution_count": null,
   "metadata": {},
   "outputs": [
    {
     "ename": "IndexError",
     "evalue": "index 15 is out of bounds for dimension 1 with size 15",
     "output_type": "error",
     "traceback": [
      "\u001b[0;31m---------------------------------------------------------------------------\u001b[0m",
      "\u001b[0;31mIndexError\u001b[0m                                Traceback (most recent call last)",
      "Cell \u001b[0;32mIn[25], line 13\u001b[0m\n\u001b[1;32m     10\u001b[0m     \u001b[38;5;28;01mreturn\u001b[39;00m adj_mat\n\u001b[1;32m     12\u001b[0m edge_index \u001b[38;5;241m=\u001b[39m [ [ \u001b[38;5;241m0\u001b[39m, \u001b[38;5;241m1\u001b[39m, \u001b[38;5;241m1\u001b[39m, \u001b[38;5;241m1\u001b[39m, \u001b[38;5;241m2\u001b[39m, \u001b[38;5;241m2\u001b[39m, \u001b[38;5;241m3\u001b[39m, \u001b[38;5;241m3\u001b[39m, \u001b[38;5;241m4\u001b[39m, \u001b[38;5;241m4\u001b[39m, \u001b[38;5;241m5\u001b[39m, \u001b[38;5;241m5\u001b[39m, \u001b[38;5;241m5\u001b[39m, \u001b[38;5;241m6\u001b[39m, \u001b[38;5;241m6\u001b[39m, \u001b[38;5;241m7\u001b[39m, \u001b[38;5;241m7\u001b[39m, \u001b[38;5;241m8\u001b[39m, \u001b[38;5;241m8\u001b[39m, \u001b[38;5;241m9\u001b[39m, \u001b[38;5;241m9\u001b[39m, \u001b[38;5;241m10\u001b[39m, \u001b[38;5;241m10\u001b[39m, \u001b[38;5;241m11\u001b[39m, \u001b[38;5;241m11\u001b[39m, \u001b[38;5;241m12\u001b[39m, \u001b[38;5;241m12\u001b[39m, \u001b[38;5;241m12\u001b[39m, \u001b[38;5;241m12\u001b[39m, \u001b[38;5;241m13\u001b[39m, \u001b[38;5;241m14\u001b[39m, \u001b[38;5;241m15\u001b[39m ], [ \u001b[38;5;241m1\u001b[39m, \u001b[38;5;241m0\u001b[39m, \u001b[38;5;241m2\u001b[39m, \u001b[38;5;241m10\u001b[39m, \u001b[38;5;241m1\u001b[39m, \u001b[38;5;241m3\u001b[39m, \u001b[38;5;241m2\u001b[39m, \u001b[38;5;241m4\u001b[39m, \u001b[38;5;241m3\u001b[39m, \u001b[38;5;241m5\u001b[39m, \u001b[38;5;241m4\u001b[39m, \u001b[38;5;241m6\u001b[39m, \u001b[38;5;241m9\u001b[39m, \u001b[38;5;241m5\u001b[39m, \u001b[38;5;241m7\u001b[39m, \u001b[38;5;241m6\u001b[39m, \u001b[38;5;241m8\u001b[39m, \u001b[38;5;241m7\u001b[39m, \u001b[38;5;241m9\u001b[39m, \u001b[38;5;241m5\u001b[39m, \u001b[38;5;241m8\u001b[39m, \u001b[38;5;241m1\u001b[39m, \u001b[38;5;241m11\u001b[39m, \u001b[38;5;241m10\u001b[39m, \u001b[38;5;241m12\u001b[39m, \u001b[38;5;241m11\u001b[39m, \u001b[38;5;241m13\u001b[39m, \u001b[38;5;241m14\u001b[39m, \u001b[38;5;241m15\u001b[39m, \u001b[38;5;241m12\u001b[39m, \u001b[38;5;241m12\u001b[39m, \u001b[38;5;241m12\u001b[39m ] ]\n\u001b[0;32m---> 13\u001b[0m adj_mat \u001b[38;5;241m=\u001b[39m \u001b[43mbuild_adj_mat\u001b[49m\u001b[43m(\u001b[49m\u001b[43medge_index\u001b[49m\u001b[43m)\u001b[49m\n\u001b[1;32m     14\u001b[0m \u001b[38;5;28mprint\u001b[39m(adj_mat)\n",
      "Cell \u001b[0;32mIn[25], line 9\u001b[0m, in \u001b[0;36mbuild_adj_mat\u001b[0;34m(edge_index)\u001b[0m\n\u001b[1;32m      7\u001b[0m adj_mat \u001b[38;5;241m=\u001b[39m torch\u001b[38;5;241m.\u001b[39mzeros((n_nodes, n_nodes))\n\u001b[1;32m      8\u001b[0m \u001b[38;5;28;01mfor\u001b[39;00m i \u001b[38;5;129;01min\u001b[39;00m \u001b[38;5;28mrange\u001b[39m(n_edges):\n\u001b[0;32m----> 9\u001b[0m     \u001b[43madj_mat\u001b[49m\u001b[43m[\u001b[49m\u001b[43medge_index\u001b[49m\u001b[43m[\u001b[49m\u001b[38;5;241;43m0\u001b[39;49m\u001b[43m]\u001b[49m\u001b[43m[\u001b[49m\u001b[43mi\u001b[49m\u001b[43m]\u001b[49m\u001b[43m,\u001b[49m\u001b[43m \u001b[49m\u001b[43medge_index\u001b[49m\u001b[43m[\u001b[49m\u001b[38;5;241;43m1\u001b[39;49m\u001b[43m]\u001b[49m\u001b[43m[\u001b[49m\u001b[43mi\u001b[49m\u001b[43m]\u001b[49m\u001b[43m]\u001b[49m \u001b[38;5;241m=\u001b[39m \u001b[38;5;241m1\u001b[39m\n\u001b[1;32m     10\u001b[0m \u001b[38;5;28;01mreturn\u001b[39;00m adj_mat\n",
      "\u001b[0;31mIndexError\u001b[0m: index 15 is out of bounds for dimension 1 with size 15"
     ]
    }
   ],
   "source": [
    "@staticmethod\n",
    "def build_adj_mat(edge_index):\n",
    "    \"\"\"Build the adjacency matrix of a graph from edge_index that looks like this: [[1, 4, 5, 6], [2, 3, 3, 5]]\n",
    "    cf. https://huggingface.co/datasets/graphs-datasets/ZINC for more details\"\"\"\n",
    "    n_nodes = max(max(edge_index[0]), max(edge_index[1])) + 1 # +1 because the nodes are 0-indexed\n",
    "    n_edges = len(edge_index[0])\n",
    "    adj_mat = torch.zeros((n_nodes, n_nodes))\n",
    "    for i in range(n_edges):\n",
    "        adj_mat[edge_index[0][i], edge_index[1][i]] = 1\n",
    "    return adj_mat\n",
    "\n",
    "edge_index = [ [ 0, 1, 1, 1, 2, 2, 3, 3, 4, 4, 5, 5, 5, 6, 6, 7, 7, 8, 8, 9, 9, 10, 10, 11, 11, 12, 12, 12, 12, 13, 14, 15 ], [ 1, 0, 2, 10, 1, 3, 2, 4, 3, 5, 4, 6, 9, 5, 7, 6, 8, 7, 9, 5, 8, 1, 11, 10, 12, 11, 13, 14, 15, 12, 12, 12 ] ]\n",
    "adj_mat = build_adj_mat(edge_index)\n",
    "print(adj_mat)"
   ]
  },
  {
   "cell_type": "code",
   "execution_count": null,
   "metadata": {},
   "outputs": [],
   "source": []
  }
 ],
 "metadata": {
  "kernelspec": {
   "display_name": "3.12.8",
   "language": "python",
   "name": "python3"
  },
  "language_info": {
   "codemirror_mode": {
    "name": "ipython",
    "version": 3
   },
   "file_extension": ".py",
   "mimetype": "text/x-python",
   "name": "python",
   "nbconvert_exporter": "python",
   "pygments_lexer": "ipython3",
   "version": "3.12.8"
  }
 },
 "nbformat": 4,
 "nbformat_minor": 2
}
